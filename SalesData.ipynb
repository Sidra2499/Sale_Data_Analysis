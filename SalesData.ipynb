{
  "nbformat": 4,
  "nbformat_minor": 0,
  "metadata": {
    "colab": {
      "provenance": [],
      "authorship_tag": "ABX9TyNw6EJGgAoJzb7wNTOUfxag",
      "include_colab_link": true
    },
    "kernelspec": {
      "name": "python3",
      "display_name": "Python 3"
    },
    "language_info": {
      "name": "python"
    }
  },
  "cells": [
    {
      "cell_type": "markdown",
      "metadata": {
        "id": "view-in-github",
        "colab_type": "text"
      },
      "source": [
        "<a href=\"https://colab.research.google.com/github/Sidra2499/Sale_Data_Analysis/blob/main/SalesData.ipynb\" target=\"_parent\"><img src=\"https://colab.research.google.com/assets/colab-badge.svg\" alt=\"Open In Colab\"/></a>"
      ]
    },
    {
      "cell_type": "code",
      "execution_count": null,
      "metadata": {
        "colab": {
          "base_uri": "https://localhost:8080/"
        },
        "id": "0AZJ6VPmB5A6",
        "outputId": "65e9f18a-989f-4132-9a98-663c86e334b4"
      },
      "outputs": [
        {
          "output_type": "stream",
          "name": "stdout",
          "text": [
            "Requirement already satisfied: pyspark in /usr/local/lib/python3.10/dist-packages (3.5.3)\n",
            "Requirement already satisfied: py4j==0.10.9.7 in /usr/local/lib/python3.10/dist-packages (from pyspark) (0.10.9.7)\n"
          ]
        }
      ],
      "source": [
        "!pip install pyspark"
      ]
    },
    {
      "cell_type": "code",
      "source": [
        "from pyspark.sql import SparkSession\n",
        "spark=SparkSession.builder.master(\"local\").appName(\"GoogleColabSpark\").getOrCreate()"
      ],
      "metadata": {
        "id": "pWEZgdfkGscy"
      },
      "execution_count": 1,
      "outputs": []
    },
    {
      "cell_type": "code",
      "source": [
        "import matplotlib.pyplot as plt\n"
      ],
      "metadata": {
        "id": "2ICpuyyhpWjZ"
      },
      "execution_count": 2,
      "outputs": []
    },
    {
      "cell_type": "code",
      "source": [
        "from google.colab import files\n",
        "unloaded = files.upload()\n",
        "\n"
      ],
      "metadata": {
        "colab": {
          "base_uri": "https://localhost:8080/",
          "height": 74
        },
        "id": "VD-Ba88iNuE2",
        "outputId": "8907575e-514e-4285-ff97-ecc03a5f2be6"
      },
      "execution_count": 3,
      "outputs": [
        {
          "output_type": "display_data",
          "data": {
            "text/plain": [
              "<IPython.core.display.HTML object>"
            ],
            "text/html": [
              "\n",
              "     <input type=\"file\" id=\"files-bf3e4b57-ec12-4951-a5f5-792da1699506\" name=\"files[]\" multiple disabled\n",
              "        style=\"border:none\" />\n",
              "     <output id=\"result-bf3e4b57-ec12-4951-a5f5-792da1699506\">\n",
              "      Upload widget is only available when the cell has been executed in the\n",
              "      current browser session. Please rerun this cell to enable.\n",
              "      </output>\n",
              "      <script>// Copyright 2017 Google LLC\n",
              "//\n",
              "// Licensed under the Apache License, Version 2.0 (the \"License\");\n",
              "// you may not use this file except in compliance with the License.\n",
              "// You may obtain a copy of the License at\n",
              "//\n",
              "//      http://www.apache.org/licenses/LICENSE-2.0\n",
              "//\n",
              "// Unless required by applicable law or agreed to in writing, software\n",
              "// distributed under the License is distributed on an \"AS IS\" BASIS,\n",
              "// WITHOUT WARRANTIES OR CONDITIONS OF ANY KIND, either express or implied.\n",
              "// See the License for the specific language governing permissions and\n",
              "// limitations under the License.\n",
              "\n",
              "/**\n",
              " * @fileoverview Helpers for google.colab Python module.\n",
              " */\n",
              "(function(scope) {\n",
              "function span(text, styleAttributes = {}) {\n",
              "  const element = document.createElement('span');\n",
              "  element.textContent = text;\n",
              "  for (const key of Object.keys(styleAttributes)) {\n",
              "    element.style[key] = styleAttributes[key];\n",
              "  }\n",
              "  return element;\n",
              "}\n",
              "\n",
              "// Max number of bytes which will be uploaded at a time.\n",
              "const MAX_PAYLOAD_SIZE = 100 * 1024;\n",
              "\n",
              "function _uploadFiles(inputId, outputId) {\n",
              "  const steps = uploadFilesStep(inputId, outputId);\n",
              "  const outputElement = document.getElementById(outputId);\n",
              "  // Cache steps on the outputElement to make it available for the next call\n",
              "  // to uploadFilesContinue from Python.\n",
              "  outputElement.steps = steps;\n",
              "\n",
              "  return _uploadFilesContinue(outputId);\n",
              "}\n",
              "\n",
              "// This is roughly an async generator (not supported in the browser yet),\n",
              "// where there are multiple asynchronous steps and the Python side is going\n",
              "// to poll for completion of each step.\n",
              "// This uses a Promise to block the python side on completion of each step,\n",
              "// then passes the result of the previous step as the input to the next step.\n",
              "function _uploadFilesContinue(outputId) {\n",
              "  const outputElement = document.getElementById(outputId);\n",
              "  const steps = outputElement.steps;\n",
              "\n",
              "  const next = steps.next(outputElement.lastPromiseValue);\n",
              "  return Promise.resolve(next.value.promise).then((value) => {\n",
              "    // Cache the last promise value to make it available to the next\n",
              "    // step of the generator.\n",
              "    outputElement.lastPromiseValue = value;\n",
              "    return next.value.response;\n",
              "  });\n",
              "}\n",
              "\n",
              "/**\n",
              " * Generator function which is called between each async step of the upload\n",
              " * process.\n",
              " * @param {string} inputId Element ID of the input file picker element.\n",
              " * @param {string} outputId Element ID of the output display.\n",
              " * @return {!Iterable<!Object>} Iterable of next steps.\n",
              " */\n",
              "function* uploadFilesStep(inputId, outputId) {\n",
              "  const inputElement = document.getElementById(inputId);\n",
              "  inputElement.disabled = false;\n",
              "\n",
              "  const outputElement = document.getElementById(outputId);\n",
              "  outputElement.innerHTML = '';\n",
              "\n",
              "  const pickedPromise = new Promise((resolve) => {\n",
              "    inputElement.addEventListener('change', (e) => {\n",
              "      resolve(e.target.files);\n",
              "    });\n",
              "  });\n",
              "\n",
              "  const cancel = document.createElement('button');\n",
              "  inputElement.parentElement.appendChild(cancel);\n",
              "  cancel.textContent = 'Cancel upload';\n",
              "  const cancelPromise = new Promise((resolve) => {\n",
              "    cancel.onclick = () => {\n",
              "      resolve(null);\n",
              "    };\n",
              "  });\n",
              "\n",
              "  // Wait for the user to pick the files.\n",
              "  const files = yield {\n",
              "    promise: Promise.race([pickedPromise, cancelPromise]),\n",
              "    response: {\n",
              "      action: 'starting',\n",
              "    }\n",
              "  };\n",
              "\n",
              "  cancel.remove();\n",
              "\n",
              "  // Disable the input element since further picks are not allowed.\n",
              "  inputElement.disabled = true;\n",
              "\n",
              "  if (!files) {\n",
              "    return {\n",
              "      response: {\n",
              "        action: 'complete',\n",
              "      }\n",
              "    };\n",
              "  }\n",
              "\n",
              "  for (const file of files) {\n",
              "    const li = document.createElement('li');\n",
              "    li.append(span(file.name, {fontWeight: 'bold'}));\n",
              "    li.append(span(\n",
              "        `(${file.type || 'n/a'}) - ${file.size} bytes, ` +\n",
              "        `last modified: ${\n",
              "            file.lastModifiedDate ? file.lastModifiedDate.toLocaleDateString() :\n",
              "                                    'n/a'} - `));\n",
              "    const percent = span('0% done');\n",
              "    li.appendChild(percent);\n",
              "\n",
              "    outputElement.appendChild(li);\n",
              "\n",
              "    const fileDataPromise = new Promise((resolve) => {\n",
              "      const reader = new FileReader();\n",
              "      reader.onload = (e) => {\n",
              "        resolve(e.target.result);\n",
              "      };\n",
              "      reader.readAsArrayBuffer(file);\n",
              "    });\n",
              "    // Wait for the data to be ready.\n",
              "    let fileData = yield {\n",
              "      promise: fileDataPromise,\n",
              "      response: {\n",
              "        action: 'continue',\n",
              "      }\n",
              "    };\n",
              "\n",
              "    // Use a chunked sending to avoid message size limits. See b/62115660.\n",
              "    let position = 0;\n",
              "    do {\n",
              "      const length = Math.min(fileData.byteLength - position, MAX_PAYLOAD_SIZE);\n",
              "      const chunk = new Uint8Array(fileData, position, length);\n",
              "      position += length;\n",
              "\n",
              "      const base64 = btoa(String.fromCharCode.apply(null, chunk));\n",
              "      yield {\n",
              "        response: {\n",
              "          action: 'append',\n",
              "          file: file.name,\n",
              "          data: base64,\n",
              "        },\n",
              "      };\n",
              "\n",
              "      let percentDone = fileData.byteLength === 0 ?\n",
              "          100 :\n",
              "          Math.round((position / fileData.byteLength) * 100);\n",
              "      percent.textContent = `${percentDone}% done`;\n",
              "\n",
              "    } while (position < fileData.byteLength);\n",
              "  }\n",
              "\n",
              "  // All done.\n",
              "  yield {\n",
              "    response: {\n",
              "      action: 'complete',\n",
              "    }\n",
              "  };\n",
              "}\n",
              "\n",
              "scope.google = scope.google || {};\n",
              "scope.google.colab = scope.google.colab || {};\n",
              "scope.google.colab._files = {\n",
              "  _uploadFiles,\n",
              "  _uploadFilesContinue,\n",
              "};\n",
              "})(self);\n",
              "</script> "
            ]
          },
          "metadata": {}
        },
        {
          "output_type": "stream",
          "name": "stdout",
          "text": [
            "Saving sales.csv to sales.csv\n"
          ]
        }
      ]
    },
    {
      "cell_type": "code",
      "source": [
        "print(spark.version)"
      ],
      "metadata": {
        "colab": {
          "base_uri": "https://localhost:8080/"
        },
        "id": "HF-QlcSJIp7e",
        "outputId": "a9160f19-3c23-4717-a99a-e1e6d1090866"
      },
      "execution_count": 4,
      "outputs": [
        {
          "output_type": "stream",
          "name": "stdout",
          "text": [
            "3.5.4\n"
          ]
        }
      ]
    },
    {
      "cell_type": "code",
      "source": [
        "sales_data = spark.read.csv('sales.csv', header= True, inferSchema= True )\n",
        "sales_data.show()\n"
      ],
      "metadata": {
        "colab": {
          "base_uri": "https://localhost:8080/"
        },
        "id": "IBlt-JqKPH2U",
        "outputId": "d2f0f5bf-3604-4e94-b28a-00ffc3cbc115"
      },
      "execution_count": 5,
      "outputs": [
        {
          "output_type": "stream",
          "name": "stdout",
          "text": [
            "+-------+------+-----------+-------------+------+------------+----------------+----------+--------+-----+-----------+-------------+\n",
            "|sale_id|branch|       city|customer_type|gender|product_name|product_category|unit_price|quantity|  tax|total_price|reward_points|\n",
            "+-------+------+-----------+-------------+------+------------+----------------+----------+--------+-----+-----------+-------------+\n",
            "|      1|     A|   New York|       Member|  Male|     Shampoo|   Personal Care|       5.5|       3| 1.16|      17.66|            1|\n",
            "|      2|     B|Los Angeles|       Normal|Female|    Notebook|      Stationery|      2.75|      10| 1.93|      29.43|            0|\n",
            "|      3|     A|   New York|       Member|Female|       Apple|          Fruits|       1.2|      15| 1.26|      19.26|            1|\n",
            "|      4|     A|    Chicago|       Normal|  Male|   Detergent|       Household|       7.8|       5| 2.73|      41.73|            0|\n",
            "|      5|     B|Los Angeles|       Member|Female|Orange Juice|       Beverages|       3.5|       7| 1.72|      26.22|            2|\n",
            "|      6|     A|    Chicago|       Normal|  Male|     Shampoo|      Stationery|     11.24|       9| 7.08|     108.24|            0|\n",
            "|      7|     A|    Chicago|       Normal|  Male|     Shampoo|   Personal Care|     10.71|       1| 0.75|      11.46|            0|\n",
            "|      8|     B|Los Angeles|       Normal|Female|     Shampoo|       Household|     18.23|       9|11.48|     175.55|            0|\n",
            "|      9|     A|    Chicago|       Member|Female|       Apple|          Fruits|     14.15|      20|19.81|     302.81|           30|\n",
            "|     10|     B|Los Angeles|       Member|  Male|     Shampoo|          Fruits|     18.42|      19| 24.5|     374.48|           37|\n",
            "|     11|     A|    Chicago|       Normal|  Male|   Detergent|       Beverages|      9.32|       7| 4.57|      69.81|            0|\n",
            "|     12|     B|Los Angeles|       Member|  Male|Orange Juice|       Household|      6.89|      12| 5.79|      88.47|            8|\n",
            "|     13|     A|   New York|       Normal|Female|Orange Juice|       Household|      3.29|       4| 0.92|      14.08|            0|\n",
            "|     14|     B|Los Angeles|       Member|Female|       Apple|          Fruits|      8.81|       5| 3.08|      47.13|            4|\n",
            "|     15|     B|Los Angeles|       Normal|Female|       Apple|       Beverages|     19.48|       3| 4.09|      62.53|            0|\n",
            "|     16|     B|Los Angeles|       Normal|  Male|    Notebook|      Stationery|      5.55|       8| 3.11|      47.51|            0|\n",
            "|     17|     B|Los Angeles|       Member|Female|       Apple|   Personal Care|      2.13|       2|  0.3|       4.56|            0|\n",
            "|     18|     B|Los Angeles|       Normal|  Male|    Notebook|          Fruits|     13.26|      15|13.92|     212.82|            0|\n",
            "|     19|     A|   New York|       Member|  Male|       Apple|       Beverages|     19.59|       2| 2.74|      41.92|            4|\n",
            "|     20|     A|    Chicago|       Normal|  Male|   Detergent|   Personal Care|      6.98|       8| 3.91|      59.75|            0|\n",
            "+-------+------+-----------+-------------+------+------------+----------------+----------+--------+-----+-----------+-------------+\n",
            "only showing top 20 rows\n",
            "\n"
          ]
        }
      ]
    },
    {
      "cell_type": "code",
      "source": [
        "sales_data.printSchema()"
      ],
      "metadata": {
        "colab": {
          "base_uri": "https://localhost:8080/"
        },
        "id": "iKG0NjlMQdIk",
        "outputId": "5f1c26a4-94e3-4d95-d79a-d5bcf390c10b"
      },
      "execution_count": 6,
      "outputs": [
        {
          "output_type": "stream",
          "name": "stdout",
          "text": [
            "root\n",
            " |-- sale_id: integer (nullable = true)\n",
            " |-- branch: string (nullable = true)\n",
            " |-- city: string (nullable = true)\n",
            " |-- customer_type: string (nullable = true)\n",
            " |-- gender: string (nullable = true)\n",
            " |-- product_name: string (nullable = true)\n",
            " |-- product_category: string (nullable = true)\n",
            " |-- unit_price: double (nullable = true)\n",
            " |-- quantity: integer (nullable = true)\n",
            " |-- tax: double (nullable = true)\n",
            " |-- total_price: double (nullable = true)\n",
            " |-- reward_points: integer (nullable = true)\n",
            "\n"
          ]
        }
      ]
    },
    {
      "cell_type": "code",
      "source": [
        "sales_data.describe().show()"
      ],
      "metadata": {
        "colab": {
          "base_uri": "https://localhost:8080/"
        },
        "id": "2mDIgAvOQ-U4",
        "outputId": "9fdd9dcc-edfc-4839-e60a-c206e45b2b10"
      },
      "execution_count": 7,
      "outputs": [
        {
          "output_type": "stream",
          "name": "stdout",
          "text": [
            "+-------+-----------------+------+--------+-------------+------+------------+----------------+------------------+------------------+-----------------+------------------+-----------------+\n",
            "|summary|          sale_id|branch|    city|customer_type|gender|product_name|product_category|        unit_price|          quantity|              tax|       total_price|    reward_points|\n",
            "+-------+-----------------+------+--------+-------------+------+------------+----------------+------------------+------------------+-----------------+------------------+-----------------+\n",
            "|  count|             1000|  1000|    1000|         1000|  1000|        1000|            1000|              1000|              1000|             1000|              1000|             1000|\n",
            "|   mean|            500.5|  NULL|    NULL|         NULL|  NULL|        NULL|            NULL|10.836109999999996|            10.337|7.758010000000006|118.58390000000006|            6.057|\n",
            "| stddev|288.8194360957494|  NULL|    NULL|         NULL|  NULL|        NULL|            NULL| 5.775923567790782|6.0299080250689405|6.538065940792139| 99.93644096535976|9.350464276290364|\n",
            "|    min|                1|     A| Chicago|       Member|Female|       Apple|       Beverages|              1.02|                 1|             0.08|              1.21|                0|\n",
            "|    max|             1000|     B|New York|       Normal|  Male|     Shampoo|      Stationery|             20.98|                20|            28.39|            433.99|               43|\n",
            "+-------+-----------------+------+--------+-------------+------+------------+----------------+------------------+------------------+-----------------+------------------+-----------------+\n",
            "\n"
          ]
        }
      ]
    },
    {
      "cell_type": "code",
      "source": [
        "print(\"Number of Rows\", sales_data.count())\n",
        "print(\"Number of Columns\", len(sales_data.columns))"
      ],
      "metadata": {
        "colab": {
          "base_uri": "https://localhost:8080/"
        },
        "id": "eC0LOQ8zSL8l",
        "outputId": "c6913cb4-5023-49fa-80d5-91b32c8c007f"
      },
      "execution_count": 8,
      "outputs": [
        {
          "output_type": "stream",
          "name": "stdout",
          "text": [
            "Number of Rows 1000\n",
            "Number of Columns 12\n"
          ]
        }
      ]
    },
    {
      "cell_type": "markdown",
      "source": [
        "In PySpark, you can't use isnull() like in pandas. Instead, you have to calculate how many missing (null) values are present in each column."
      ],
      "metadata": {
        "id": "cLvzUBuyqfy7"
      }
    },
    {
      "cell_type": "code",
      "source": [
        "from pyspark.sql.functions import col, sum as _sum\n"
      ],
      "metadata": {
        "id": "8GARx2EKm-FJ"
      },
      "execution_count": 9,
      "outputs": []
    },
    {
      "cell_type": "code",
      "source": [
        "# Count null values in each column\n",
        "missing_data = sales_data.select(\n",
        "    *[_sum(col(column).isNull().cast(\"int\")).alias(column) for column in sales_data.columns]\n",
        ")\n",
        "\n",
        "# Show the missing data summary\n",
        "missing_data.show()\n"
      ],
      "metadata": {
        "colab": {
          "base_uri": "https://localhost:8080/"
        },
        "id": "rbX-F-9Wqp1u",
        "outputId": "827cb1ce-ae6a-44e8-b9d8-f76790e8ccc2"
      },
      "execution_count": 10,
      "outputs": [
        {
          "output_type": "stream",
          "name": "stdout",
          "text": [
            "+-------+------+----+-------------+------+------------+----------------+----------+--------+---+-----------+-------------+\n",
            "|sale_id|branch|city|customer_type|gender|product_name|product_category|unit_price|quantity|tax|total_price|reward_points|\n",
            "+-------+------+----+-------------+------+------------+----------------+----------+--------+---+-----------+-------------+\n",
            "|      0|     0|   0|            0|     0|           0|               0|         0|       0|  0|          0|            0|\n",
            "+-------+------+----+-------------+------+------------+----------------+----------+--------+---+-----------+-------------+\n",
            "\n"
          ]
        }
      ]
    },
    {
      "cell_type": "markdown",
      "source": [
        "In this case, we found no missing values but in case if we found any, then we have two options either remove the columns or replace the values with some numbers or 0.\n"
      ],
      "metadata": {
        "id": "_SLM_j-PylL0"
      }
    },
    {
      "cell_type": "markdown",
      "source": [
        "1. Method is drop rows with missing values\n",
        "\n"
      ],
      "metadata": {
        "id": "eOJ1Sc7ny3zd"
      }
    },
    {
      "cell_type": "code",
      "source": [
        "sales_data= sales_data.dropna()\n",
        "sales_data.show()"
      ],
      "metadata": {
        "colab": {
          "base_uri": "https://localhost:8080/"
        },
        "id": "zw5FjuqCyRLz",
        "outputId": "1c40e9e5-d091-4323-88dd-e82fcab4e50f"
      },
      "execution_count": 11,
      "outputs": [
        {
          "output_type": "stream",
          "name": "stdout",
          "text": [
            "+-------+------+-----------+-------------+------+------------+----------------+----------+--------+-----+-----------+-------------+\n",
            "|sale_id|branch|       city|customer_type|gender|product_name|product_category|unit_price|quantity|  tax|total_price|reward_points|\n",
            "+-------+------+-----------+-------------+------+------------+----------------+----------+--------+-----+-----------+-------------+\n",
            "|      1|     A|   New York|       Member|  Male|     Shampoo|   Personal Care|       5.5|       3| 1.16|      17.66|            1|\n",
            "|      2|     B|Los Angeles|       Normal|Female|    Notebook|      Stationery|      2.75|      10| 1.93|      29.43|            0|\n",
            "|      3|     A|   New York|       Member|Female|       Apple|          Fruits|       1.2|      15| 1.26|      19.26|            1|\n",
            "|      4|     A|    Chicago|       Normal|  Male|   Detergent|       Household|       7.8|       5| 2.73|      41.73|            0|\n",
            "|      5|     B|Los Angeles|       Member|Female|Orange Juice|       Beverages|       3.5|       7| 1.72|      26.22|            2|\n",
            "|      6|     A|    Chicago|       Normal|  Male|     Shampoo|      Stationery|     11.24|       9| 7.08|     108.24|            0|\n",
            "|      7|     A|    Chicago|       Normal|  Male|     Shampoo|   Personal Care|     10.71|       1| 0.75|      11.46|            0|\n",
            "|      8|     B|Los Angeles|       Normal|Female|     Shampoo|       Household|     18.23|       9|11.48|     175.55|            0|\n",
            "|      9|     A|    Chicago|       Member|Female|       Apple|          Fruits|     14.15|      20|19.81|     302.81|           30|\n",
            "|     10|     B|Los Angeles|       Member|  Male|     Shampoo|          Fruits|     18.42|      19| 24.5|     374.48|           37|\n",
            "|     11|     A|    Chicago|       Normal|  Male|   Detergent|       Beverages|      9.32|       7| 4.57|      69.81|            0|\n",
            "|     12|     B|Los Angeles|       Member|  Male|Orange Juice|       Household|      6.89|      12| 5.79|      88.47|            8|\n",
            "|     13|     A|   New York|       Normal|Female|Orange Juice|       Household|      3.29|       4| 0.92|      14.08|            0|\n",
            "|     14|     B|Los Angeles|       Member|Female|       Apple|          Fruits|      8.81|       5| 3.08|      47.13|            4|\n",
            "|     15|     B|Los Angeles|       Normal|Female|       Apple|       Beverages|     19.48|       3| 4.09|      62.53|            0|\n",
            "|     16|     B|Los Angeles|       Normal|  Male|    Notebook|      Stationery|      5.55|       8| 3.11|      47.51|            0|\n",
            "|     17|     B|Los Angeles|       Member|Female|       Apple|   Personal Care|      2.13|       2|  0.3|       4.56|            0|\n",
            "|     18|     B|Los Angeles|       Normal|  Male|    Notebook|          Fruits|     13.26|      15|13.92|     212.82|            0|\n",
            "|     19|     A|   New York|       Member|  Male|       Apple|       Beverages|     19.59|       2| 2.74|      41.92|            4|\n",
            "|     20|     A|    Chicago|       Normal|  Male|   Detergent|   Personal Care|      6.98|       8| 3.91|      59.75|            0|\n",
            "+-------+------+-----------+-------------+------+------------+----------------+----------+--------+-----+-----------+-------------+\n",
            "only showing top 20 rows\n",
            "\n"
          ]
        }
      ]
    },
    {
      "cell_type": "markdown",
      "source": [
        "2. Method to fill missing values in number columns and strings columns\n"
      ],
      "metadata": {
        "id": "MAuCl45XzhA4"
      }
    },
    {
      "cell_type": "code",
      "source": [
        "sales_data = sales_data.fillna({\"total_price\" : 0})\n",
        "# replace values in string colms\n",
        "sales_data= sales_data.fillna({'product_category': 'unknown'})"
      ],
      "metadata": {
        "id": "ygtN2x_Ezqur"
      },
      "execution_count": 12,
      "outputs": []
    },
    {
      "cell_type": "code",
      "source": [
        "total_rows = sales_data.count()\n",
        "total_distincts = sales_data.distinct().count()\n",
        "print(f\"Total rows : {total_rows}, Distinct Columns: {total_distincts}\")"
      ],
      "metadata": {
        "colab": {
          "base_uri": "https://localhost:8080/"
        },
        "id": "FDleRN8V1JbB",
        "outputId": "74659d90-5a0c-47d8-f317-3afdaef1a3bd"
      },
      "execution_count": 13,
      "outputs": [
        {
          "output_type": "stream",
          "name": "stdout",
          "text": [
            "Total rows : 1000, Distinct Columns: 1000\n"
          ]
        }
      ]
    },
    {
      "cell_type": "markdown",
      "source": [
        "After ensuring no duplicates, let’s check the data types to confirm they are as expected (e.g., numbers are numeric, dates are datetime)."
      ],
      "metadata": {
        "id": "Tdi79PkuIxkW"
      }
    },
    {
      "cell_type": "code",
      "source": [
        "sales_data.printSchema()"
      ],
      "metadata": {
        "colab": {
          "base_uri": "https://localhost:8080/"
        },
        "id": "RgL2CsDsHxBy",
        "outputId": "2282c1fc-2224-4c1a-ede9-98c49acde9f5"
      },
      "execution_count": 14,
      "outputs": [
        {
          "output_type": "stream",
          "name": "stdout",
          "text": [
            "root\n",
            " |-- sale_id: integer (nullable = true)\n",
            " |-- branch: string (nullable = true)\n",
            " |-- city: string (nullable = true)\n",
            " |-- customer_type: string (nullable = true)\n",
            " |-- gender: string (nullable = true)\n",
            " |-- product_name: string (nullable = true)\n",
            " |-- product_category: string (nullable = false)\n",
            " |-- unit_price: double (nullable = true)\n",
            " |-- quantity: integer (nullable = true)\n",
            " |-- tax: double (nullable = true)\n",
            " |-- total_price: double (nullable = false)\n",
            " |-- reward_points: integer (nullable = true)\n",
            "\n"
          ]
        }
      ]
    }
  ]
}