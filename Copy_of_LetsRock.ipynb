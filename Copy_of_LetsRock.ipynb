{
  "nbformat": 4,
  "nbformat_minor": 0,
  "metadata": {
    "colab": {
      "provenance": [],
      "authorship_tag": "ABX9TyMGUCI2xYCj0AHJZNGPBVfI",
      "include_colab_link": true
    },
    "kernelspec": {
      "name": "python3",
      "display_name": "Python 3"
    },
    "language_info": {
      "name": "python"
    }
  },
  "cells": [
    {
      "cell_type": "markdown",
      "metadata": {
        "id": "view-in-github",
        "colab_type": "text"
      },
      "source": [
        "<a href=\"https://colab.research.google.com/github/Sidra2499/Data_Analysis_Projects/blob/Projects/Copy_of_LetsRock.ipynb\" target=\"_parent\"><img src=\"https://colab.research.google.com/assets/colab-badge.svg\" alt=\"Open In Colab\"/></a>"
      ]
    },
    {
      "cell_type": "code",
      "execution_count": null,
      "metadata": {
        "colab": {
          "base_uri": "https://localhost:8080/"
        },
        "id": "0AZJ6VPmB5A6",
        "outputId": "55ff2ff7-ee8b-47db-9a55-8e5f1935a9ef"
      },
      "outputs": [
        {
          "output_type": "stream",
          "name": "stdout",
          "text": [
            "Requirement already satisfied: pyspark in /usr/local/lib/python3.10/dist-packages (3.5.3)\n",
            "Requirement already satisfied: py4j==0.10.9.7 in /usr/local/lib/python3.10/dist-packages (from pyspark) (0.10.9.7)\n"
          ]
        }
      ],
      "source": [
        "!pip install pyspark"
      ]
    },
    {
      "cell_type": "code",
      "source": [
        "from pyspark.sql import SparkSession\n",
        "spark=SparkSession.builder.master(\"local\").appName(\"GoogleColabSpark\").getOrCreate()"
      ],
      "metadata": {
        "id": "pWEZgdfkGscy"
      },
      "execution_count": null,
      "outputs": []
    },
    {
      "cell_type": "code",
      "source": [
        "data = [(\"Sidra\", 10), (\"Samra\", 20)]\n",
        "columns = [\"Name\", \"Numbers\"]\n",
        "df = spark.createDataFrame(data, columns)\n",
        "data_collected = df.collect()\n",
        "for row in data_collected:\n",
        "    print(row)"
      ],
      "metadata": {
        "colab": {
          "base_uri": "https://localhost:8080/"
        },
        "id": "r3XJfiycIPRi",
        "outputId": "f1f8eb7d-a7b3-4d41-c3a5-48e2bdec3e10"
      },
      "execution_count": null,
      "outputs": [
        {
          "output_type": "stream",
          "name": "stdout",
          "text": [
            "Row(Name='Sidra', Numbers=10)\n",
            "Row(Name='Samra', Numbers=20)\n"
          ]
        }
      ]
    },
    {
      "cell_type": "code",
      "source": [
        "from google.colab import files\n",
        "unloaded = files.upload()\n",
        "\n"
      ],
      "metadata": {
        "colab": {
          "base_uri": "https://localhost:8080/",
          "height": 94
        },
        "id": "VD-Ba88iNuE2",
        "outputId": "1cae6e0f-e594-4243-ec8c-05d25ac80a68"
      },
      "execution_count": null,
      "outputs": [
        {
          "output_type": "display_data",
          "data": {
            "text/plain": [
              "<IPython.core.display.HTML object>"
            ],
            "text/html": [
              "\n",
              "     <input type=\"file\" id=\"files-70f43396-37b8-4ade-88e8-c8089647b482\" name=\"files[]\" multiple disabled\n",
              "        style=\"border:none\" />\n",
              "     <output id=\"result-70f43396-37b8-4ade-88e8-c8089647b482\">\n",
              "      Upload widget is only available when the cell has been executed in the\n",
              "      current browser session. Please rerun this cell to enable.\n",
              "      </output>\n",
              "      <script>// Copyright 2017 Google LLC\n",
              "//\n",
              "// Licensed under the Apache License, Version 2.0 (the \"License\");\n",
              "// you may not use this file except in compliance with the License.\n",
              "// You may obtain a copy of the License at\n",
              "//\n",
              "//      http://www.apache.org/licenses/LICENSE-2.0\n",
              "//\n",
              "// Unless required by applicable law or agreed to in writing, software\n",
              "// distributed under the License is distributed on an \"AS IS\" BASIS,\n",
              "// WITHOUT WARRANTIES OR CONDITIONS OF ANY KIND, either express or implied.\n",
              "// See the License for the specific language governing permissions and\n",
              "// limitations under the License.\n",
              "\n",
              "/**\n",
              " * @fileoverview Helpers for google.colab Python module.\n",
              " */\n",
              "(function(scope) {\n",
              "function span(text, styleAttributes = {}) {\n",
              "  const element = document.createElement('span');\n",
              "  element.textContent = text;\n",
              "  for (const key of Object.keys(styleAttributes)) {\n",
              "    element.style[key] = styleAttributes[key];\n",
              "  }\n",
              "  return element;\n",
              "}\n",
              "\n",
              "// Max number of bytes which will be uploaded at a time.\n",
              "const MAX_PAYLOAD_SIZE = 100 * 1024;\n",
              "\n",
              "function _uploadFiles(inputId, outputId) {\n",
              "  const steps = uploadFilesStep(inputId, outputId);\n",
              "  const outputElement = document.getElementById(outputId);\n",
              "  // Cache steps on the outputElement to make it available for the next call\n",
              "  // to uploadFilesContinue from Python.\n",
              "  outputElement.steps = steps;\n",
              "\n",
              "  return _uploadFilesContinue(outputId);\n",
              "}\n",
              "\n",
              "// This is roughly an async generator (not supported in the browser yet),\n",
              "// where there are multiple asynchronous steps and the Python side is going\n",
              "// to poll for completion of each step.\n",
              "// This uses a Promise to block the python side on completion of each step,\n",
              "// then passes the result of the previous step as the input to the next step.\n",
              "function _uploadFilesContinue(outputId) {\n",
              "  const outputElement = document.getElementById(outputId);\n",
              "  const steps = outputElement.steps;\n",
              "\n",
              "  const next = steps.next(outputElement.lastPromiseValue);\n",
              "  return Promise.resolve(next.value.promise).then((value) => {\n",
              "    // Cache the last promise value to make it available to the next\n",
              "    // step of the generator.\n",
              "    outputElement.lastPromiseValue = value;\n",
              "    return next.value.response;\n",
              "  });\n",
              "}\n",
              "\n",
              "/**\n",
              " * Generator function which is called between each async step of the upload\n",
              " * process.\n",
              " * @param {string} inputId Element ID of the input file picker element.\n",
              " * @param {string} outputId Element ID of the output display.\n",
              " * @return {!Iterable<!Object>} Iterable of next steps.\n",
              " */\n",
              "function* uploadFilesStep(inputId, outputId) {\n",
              "  const inputElement = document.getElementById(inputId);\n",
              "  inputElement.disabled = false;\n",
              "\n",
              "  const outputElement = document.getElementById(outputId);\n",
              "  outputElement.innerHTML = '';\n",
              "\n",
              "  const pickedPromise = new Promise((resolve) => {\n",
              "    inputElement.addEventListener('change', (e) => {\n",
              "      resolve(e.target.files);\n",
              "    });\n",
              "  });\n",
              "\n",
              "  const cancel = document.createElement('button');\n",
              "  inputElement.parentElement.appendChild(cancel);\n",
              "  cancel.textContent = 'Cancel upload';\n",
              "  const cancelPromise = new Promise((resolve) => {\n",
              "    cancel.onclick = () => {\n",
              "      resolve(null);\n",
              "    };\n",
              "  });\n",
              "\n",
              "  // Wait for the user to pick the files.\n",
              "  const files = yield {\n",
              "    promise: Promise.race([pickedPromise, cancelPromise]),\n",
              "    response: {\n",
              "      action: 'starting',\n",
              "    }\n",
              "  };\n",
              "\n",
              "  cancel.remove();\n",
              "\n",
              "  // Disable the input element since further picks are not allowed.\n",
              "  inputElement.disabled = true;\n",
              "\n",
              "  if (!files) {\n",
              "    return {\n",
              "      response: {\n",
              "        action: 'complete',\n",
              "      }\n",
              "    };\n",
              "  }\n",
              "\n",
              "  for (const file of files) {\n",
              "    const li = document.createElement('li');\n",
              "    li.append(span(file.name, {fontWeight: 'bold'}));\n",
              "    li.append(span(\n",
              "        `(${file.type || 'n/a'}) - ${file.size} bytes, ` +\n",
              "        `last modified: ${\n",
              "            file.lastModifiedDate ? file.lastModifiedDate.toLocaleDateString() :\n",
              "                                    'n/a'} - `));\n",
              "    const percent = span('0% done');\n",
              "    li.appendChild(percent);\n",
              "\n",
              "    outputElement.appendChild(li);\n",
              "\n",
              "    const fileDataPromise = new Promise((resolve) => {\n",
              "      const reader = new FileReader();\n",
              "      reader.onload = (e) => {\n",
              "        resolve(e.target.result);\n",
              "      };\n",
              "      reader.readAsArrayBuffer(file);\n",
              "    });\n",
              "    // Wait for the data to be ready.\n",
              "    let fileData = yield {\n",
              "      promise: fileDataPromise,\n",
              "      response: {\n",
              "        action: 'continue',\n",
              "      }\n",
              "    };\n",
              "\n",
              "    // Use a chunked sending to avoid message size limits. See b/62115660.\n",
              "    let position = 0;\n",
              "    do {\n",
              "      const length = Math.min(fileData.byteLength - position, MAX_PAYLOAD_SIZE);\n",
              "      const chunk = new Uint8Array(fileData, position, length);\n",
              "      position += length;\n",
              "\n",
              "      const base64 = btoa(String.fromCharCode.apply(null, chunk));\n",
              "      yield {\n",
              "        response: {\n",
              "          action: 'append',\n",
              "          file: file.name,\n",
              "          data: base64,\n",
              "        },\n",
              "      };\n",
              "\n",
              "      let percentDone = fileData.byteLength === 0 ?\n",
              "          100 :\n",
              "          Math.round((position / fileData.byteLength) * 100);\n",
              "      percent.textContent = `${percentDone}% done`;\n",
              "\n",
              "    } while (position < fileData.byteLength);\n",
              "  }\n",
              "\n",
              "  // All done.\n",
              "  yield {\n",
              "    response: {\n",
              "      action: 'complete',\n",
              "    }\n",
              "  };\n",
              "}\n",
              "\n",
              "scope.google = scope.google || {};\n",
              "scope.google.colab = scope.google.colab || {};\n",
              "scope.google.colab._files = {\n",
              "  _uploadFiles,\n",
              "  _uploadFilesContinue,\n",
              "};\n",
              "})(self);\n",
              "</script> "
            ]
          },
          "metadata": {}
        },
        {
          "output_type": "stream",
          "name": "stdout",
          "text": [
            "Saving youtube_subscribers_data.csv to youtube_subscribers_data.csv\n"
          ]
        }
      ]
    },
    {
      "cell_type": "code",
      "source": [
        "print(spark.version)"
      ],
      "metadata": {
        "colab": {
          "base_uri": "https://localhost:8080/"
        },
        "id": "HF-QlcSJIp7e",
        "outputId": "a6a93548-fc5e-4658-9e39-64fccec09565"
      },
      "execution_count": null,
      "outputs": [
        {
          "output_type": "stream",
          "name": "stdout",
          "text": [
            "3.5.3\n"
          ]
        }
      ]
    },
    {
      "cell_type": "code",
      "source": [
        "df_youtube = spark.read.csv('youtube_subscribers_data.csv', header= True, inferSchema= True )\n",
        "df_youtube.show()\n"
      ],
      "metadata": {
        "colab": {
          "base_uri": "https://localhost:8080/"
        },
        "id": "IBlt-JqKPH2U",
        "outputId": "22b69726-1f4d-4d7c-ace4-882ba2fc7827"
      },
      "execution_count": null,
      "outputs": [
        {
          "output_type": "stream",
          "name": "stdout",
          "text": [
            "+--------------------+-------------+----------------------+----------------+-------------+--------------------+\n",
            "|                Name|Brand channel|Subscribers (millions)|Primary language|     Category|             Country|\n",
            "+--------------------+-------------+----------------------+----------------+-------------+--------------------+\n",
            "|             MrBeast|           No|                 335.0|         English|Entertainment|       United States|\n",
            "|            T-Series|          Yes|                 280.0|           Hindi|        Music|               India|\n",
            "|Cocomelon - Nurse...|          Yes|                 186.0|         English|    Education|       United States|\n",
            "|           SET India|          Yes|                 180.0|           Hindi|Entertainment|               India|\n",
            "|       Vlad and Niki|           No|                 129.0|         English|Entertainment|              Russia|\n",
            "|     Kids Diana Show|          Yes|                 128.0|         English|Entertainment|United States  Uk...|\n",
            "|         Like Nastya|           No|                 123.0|         English|Entertainment|United States  Uk...|\n",
            "|           Zee Music|          Yes|                 112.0|           Hindi|        Music|               India|\n",
            "|           PewDiePie|           No|                 110.0|         English|Entertainment|       Sweden  Japan|\n",
            "|                 WWE|          Yes|                 105.0|         English|       Sports|       United States|\n",
            "|           Goldmines|          Yes|                 101.0|           Hindi|         Film|               India|\n",
            "|        Stokes Twins|           No|                 100.0|         English|Entertainment|       United States|\n",
            "|            Sony SAB|          Yes|                  97.5|           Hindi|Entertainment|               India|\n",
            "|           Blackpink|           No|                  95.3|          Korean|        Music|         South Korea|\n",
            "|ChuChu TV Nursery...|          Yes|                  94.2|           Hindi|    Education|               India|\n",
            "|              Zee TV|          Yes|                  86.0|           Hindi|Entertainment|               India|\n",
            "|     5-Minute Crafts|          Yes|                  81.1|         English|       How-to|           Cyprus[a]|\n",
            "|           BANGTANTV|           No|                  79.4|          Korean|        Music|         South Korea|\n",
            "|            Pinkfong|          Yes|                  79.2|         English|    Education|         South Korea|\n",
            "|           Colors TV|          Yes|                  77.5|           Hindi|Entertainment|               India|\n",
            "+--------------------+-------------+----------------------+----------------+-------------+--------------------+\n",
            "only showing top 20 rows\n",
            "\n"
          ]
        }
      ]
    },
    {
      "cell_type": "code",
      "source": [
        "df_youtube.printSchema()"
      ],
      "metadata": {
        "colab": {
          "base_uri": "https://localhost:8080/"
        },
        "id": "iKG0NjlMQdIk",
        "outputId": "d8baaf11-4cf1-4f01-b6a1-d3ec01844596"
      },
      "execution_count": null,
      "outputs": [
        {
          "output_type": "stream",
          "name": "stdout",
          "text": [
            "root\n",
            " |-- Name: string (nullable = true)\n",
            " |-- Brand channel: string (nullable = true)\n",
            " |-- Subscribers (millions): double (nullable = true)\n",
            " |-- Primary language: string (nullable = true)\n",
            " |-- Category: string (nullable = true)\n",
            " |-- Country: string (nullable = true)\n",
            "\n"
          ]
        }
      ]
    },
    {
      "cell_type": "code",
      "source": [
        "df_youtube.describe().show()"
      ],
      "metadata": {
        "colab": {
          "base_uri": "https://localhost:8080/"
        },
        "id": "2mDIgAvOQ-U4",
        "outputId": "d9dc94d9-bb25-4578-be16-6f42b9b104cd"
      },
      "execution_count": null,
      "outputs": [
        {
          "output_type": "stream",
          "name": "stdout",
          "text": [
            "+-------+---------------+-------------+----------------------+----------------+--------+--------------------+\n",
            "|summary|           Name|Brand channel|Subscribers (millions)|Primary language|Category|             Country|\n",
            "+-------+---------------+-------------+----------------------+----------------+--------+--------------------+\n",
            "|  count|             50|           50|                    50|              50|      50|                  50|\n",
            "|   mean|           NULL|         NULL|     90.96199999999999|            NULL|    NULL|                NULL|\n",
            "| stddev|           NULL|         NULL|    53.066726921136286|            NULL|    NULL|                NULL|\n",
            "|    min|5-Minute Crafts|           No|                  57.5|          Arabic|  Comedy|           Argentina|\n",
            "|    max|   김프로KIMPRO|          Yes|                 335.0|            Urdu|  Sports|United States  Uk...|\n",
            "+-------+---------------+-------------+----------------------+----------------+--------+--------------------+\n",
            "\n"
          ]
        }
      ]
    },
    {
      "cell_type": "code",
      "source": [
        "print(\"Number of Rows\", df_youtube.count())\n",
        "print(\"Number of Columns\", len(df_youtube.columns))"
      ],
      "metadata": {
        "colab": {
          "base_uri": "https://localhost:8080/"
        },
        "id": "eC0LOQ8zSL8l",
        "outputId": "737f64ce-cee2-43dc-d801-7d23c242b969"
      },
      "execution_count": null,
      "outputs": [
        {
          "output_type": "stream",
          "name": "stdout",
          "text": [
            "Number of Rows 50\n",
            "Number of Columns 6\n"
          ]
        }
      ]
    },
    {
      "cell_type": "code",
      "source": [
        "df_youtube.filter(df_youtube['Subscribers (millions)']>10).show()"
      ],
      "metadata": {
        "colab": {
          "base_uri": "https://localhost:8080/"
        },
        "id": "iAzF_q1DUMqE",
        "outputId": "c1234262-f44f-455f-e5c4-acaac991410e"
      },
      "execution_count": null,
      "outputs": [
        {
          "output_type": "stream",
          "name": "stdout",
          "text": [
            "+--------------------+-------------+----------------------+----------------+-------------+--------------------+\n",
            "|                Name|Brand channel|Subscribers (millions)|Primary language|     Category|             Country|\n",
            "+--------------------+-------------+----------------------+----------------+-------------+--------------------+\n",
            "|             MrBeast|           No|                 335.0|         English|Entertainment|       United States|\n",
            "|            T-Series|          Yes|                 280.0|           Hindi|        Music|               India|\n",
            "|Cocomelon - Nurse...|          Yes|                 186.0|         English|    Education|       United States|\n",
            "|           SET India|          Yes|                 180.0|           Hindi|Entertainment|               India|\n",
            "|       Vlad and Niki|           No|                 129.0|         English|Entertainment|              Russia|\n",
            "|     Kids Diana Show|          Yes|                 128.0|         English|Entertainment|United States  Uk...|\n",
            "|         Like Nastya|           No|                 123.0|         English|Entertainment|United States  Uk...|\n",
            "|           Zee Music|          Yes|                 112.0|           Hindi|        Music|               India|\n",
            "|           PewDiePie|           No|                 110.0|         English|Entertainment|       Sweden  Japan|\n",
            "|                 WWE|          Yes|                 105.0|         English|       Sports|       United States|\n",
            "|           Goldmines|          Yes|                 101.0|           Hindi|         Film|               India|\n",
            "|        Stokes Twins|           No|                 100.0|         English|Entertainment|       United States|\n",
            "|            Sony SAB|          Yes|                  97.5|           Hindi|Entertainment|               India|\n",
            "|           Blackpink|           No|                  95.3|          Korean|        Music|         South Korea|\n",
            "|ChuChu TV Nursery...|          Yes|                  94.2|           Hindi|    Education|               India|\n",
            "|              Zee TV|          Yes|                  86.0|           Hindi|Entertainment|               India|\n",
            "|     5-Minute Crafts|          Yes|                  81.1|         English|       How-to|           Cyprus[a]|\n",
            "|           BANGTANTV|           No|                  79.4|          Korean|        Music|         South Korea|\n",
            "|            Pinkfong|          Yes|                  79.2|         English|    Education|         South Korea|\n",
            "|           Colors TV|          Yes|                  77.5|           Hindi|Entertainment|               India|\n",
            "+--------------------+-------------+----------------------+----------------+-------------+--------------------+\n",
            "only showing top 20 rows\n",
            "\n"
          ]
        }
      ]
    },
    {
      "cell_type": "code",
      "source": [
        "df_youtube.groupBy('Category').avg('Subscribers (millions)').show()"
      ],
      "metadata": {
        "colab": {
          "base_uri": "https://localhost:8080/"
        },
        "id": "IZgf9gWlhVKL",
        "outputId": "d4ae0fc9-f0b7-4cd2-a2fc-1790290334bf"
      },
      "execution_count": null,
      "outputs": [
        {
          "output_type": "stream",
          "name": "stdout",
          "text": [
            "+--------------------+---------------------------+\n",
            "|            Category|avg(Subscribers (millions))|\n",
            "+--------------------+---------------------------+\n",
            "|Education/Enterta...|                       60.2|\n",
            "|           Education|                      106.5|\n",
            "|       Entertainment|         101.26000000000002|\n",
            "|              Sports|                      105.0|\n",
            "|                Film|                       81.9|\n",
            "|              How-to|                       81.1|\n",
            "|     Lifestyle Vlogs|                       62.2|\n",
            "|               Music|          83.77058823529413|\n",
            "|Entertainment/Sports|                       71.3|\n",
            "|              Comedy|                       60.6|\n",
            "|                News|                       68.6|\n",
            "+--------------------+---------------------------+\n",
            "\n"
          ]
        }
      ]
    },
    {
      "cell_type": "code",
      "source": [
        "df_youtube.groupBy('Category').sum('Subscribers (millions)').show()"
      ],
      "metadata": {
        "colab": {
          "base_uri": "https://localhost:8080/"
        },
        "id": "yF9pAPvOirIO",
        "outputId": "e0dcd3ed-53cc-488e-c787-5fd206e46969"
      },
      "execution_count": null,
      "outputs": [
        {
          "output_type": "stream",
          "name": "stdout",
          "text": [
            "+--------------------+---------------------------+\n",
            "|            Category|sum(Subscribers (millions))|\n",
            "+--------------------+---------------------------+\n",
            "|Education/Enterta...|                       60.2|\n",
            "|           Education|                      426.0|\n",
            "|       Entertainment|         2025.2000000000003|\n",
            "|              Sports|                      105.0|\n",
            "|                Film|                      163.8|\n",
            "|              How-to|                       81.1|\n",
            "|     Lifestyle Vlogs|                       62.2|\n",
            "|               Music|         1424.1000000000001|\n",
            "|Entertainment/Sports|                       71.3|\n",
            "|              Comedy|                       60.6|\n",
            "|                News|                       68.6|\n",
            "+--------------------+---------------------------+\n",
            "\n"
          ]
        }
      ]
    },
    {
      "cell_type": "code",
      "source": [
        "df_youtube.orderBy('Category',ascending=False).show()"
      ],
      "metadata": {
        "colab": {
          "base_uri": "https://localhost:8080/"
        },
        "id": "EJikGcHWjgTh",
        "outputId": "8aa8c63c-217d-43bd-c087-3d1ced04e0d7"
      },
      "execution_count": null,
      "outputs": [
        {
          "output_type": "stream",
          "name": "stdout",
          "text": [
            "+--------------------+-------------+----------------------+----------------+---------------+-------------+\n",
            "|                Name|Brand channel|Subscribers (millions)|Primary language|       Category|      Country|\n",
            "+--------------------+-------------+----------------------+----------------+---------------+-------------+\n",
            "|                 WWE|          Yes|                 105.0|         English|         Sports|United States|\n",
            "|             Aaj Tak|          Yes|                  68.6|           Hindi|           News|        India|\n",
            "|T-Series Bhakti S...|          Yes|                  72.5|           Hindi|          Music|        India|\n",
            "|           Zee Music|          Yes|                 112.0|           Hindi|          Music|        India|\n",
            "|           Blackpink|           No|                  95.3|          Korean|          Music|  South Korea|\n",
            "|           BANGTANTV|           No|                  79.4|          Korean|          Music|  South Korea|\n",
            "|         Hybe Labels|          Yes|                  76.2|          Korean|          Music|  South Korea|\n",
            "|        Taylor Swift|           No|                  60.4|         English|          Music|United States|\n",
            "|       Justin Bieber|           No|                  74.4|         English|          Music|       Canada|\n",
            "|    Sony Music India|          Yes|                  62.8|           Hindi|          Music|        India|\n",
            "|Shemaroo Filmi Gaane|          Yes|                  70.2|           Hindi|          Music|        India|\n",
            "|            T-Series|          Yes|                 280.0|           Hindi|          Music|        India|\n",
            "|     Canal KondZilla|          Yes|                  67.5|      Portuguese|          Music|       Brazil|\n",
            "|   El Reino Infantil|          Yes|                  67.0|         Spanish|          Music|    Argentina|\n",
            "|          Wave Music|          Yes|                  63.6|        Bhojpuri|          Music|        India|\n",
            "|        Eminem Music|           No|                  63.2|         English|          Music|United States|\n",
            "|                 YRF|          Yes|                  62.8|           Hindi|          Music|        India|\n",
            "|         LooLoo Kids|          Yes|                  59.3|         English|          Music|      Romania|\n",
            "|          Marshmello|           No|                  57.5|         English|          Music|United States|\n",
            "| KL BRO Biju Rithvik|           No|                  62.2|       Malayalam|Lifestyle Vlogs|        India|\n",
            "+--------------------+-------------+----------------------+----------------+---------------+-------------+\n",
            "only showing top 20 rows\n",
            "\n"
          ]
        }
      ]
    },
    {
      "cell_type": "code",
      "source": [
        "df_youtube.fillna({'Subscribers (millions)':0}).show()"
      ],
      "metadata": {
        "colab": {
          "base_uri": "https://localhost:8080/"
        },
        "id": "plEbnHnGxgfI",
        "outputId": "a89aecb8-a90d-4af1-a007-802885572a71"
      },
      "execution_count": null,
      "outputs": [
        {
          "output_type": "stream",
          "name": "stdout",
          "text": [
            "+--------------------+-------------+----------------------+----------------+-------------+--------------------+\n",
            "|                Name|Brand channel|Subscribers (millions)|Primary language|     Category|             Country|\n",
            "+--------------------+-------------+----------------------+----------------+-------------+--------------------+\n",
            "|             MrBeast|           No|                 335.0|         English|Entertainment|       United States|\n",
            "|            T-Series|          Yes|                 280.0|           Hindi|        Music|               India|\n",
            "|Cocomelon - Nurse...|          Yes|                 186.0|         English|    Education|       United States|\n",
            "|           SET India|          Yes|                 180.0|           Hindi|Entertainment|               India|\n",
            "|       Vlad and Niki|           No|                 129.0|         English|Entertainment|              Russia|\n",
            "|     Kids Diana Show|          Yes|                 128.0|         English|Entertainment|United States  Uk...|\n",
            "|         Like Nastya|           No|                 123.0|         English|Entertainment|United States  Uk...|\n",
            "|           Zee Music|          Yes|                 112.0|           Hindi|        Music|               India|\n",
            "|           PewDiePie|           No|                 110.0|         English|Entertainment|       Sweden  Japan|\n",
            "|                 WWE|          Yes|                 105.0|         English|       Sports|       United States|\n",
            "|           Goldmines|          Yes|                 101.0|           Hindi|         Film|               India|\n",
            "|        Stokes Twins|           No|                 100.0|         English|Entertainment|       United States|\n",
            "|            Sony SAB|          Yes|                  97.5|           Hindi|Entertainment|               India|\n",
            "|           Blackpink|           No|                  95.3|          Korean|        Music|         South Korea|\n",
            "|ChuChu TV Nursery...|          Yes|                  94.2|           Hindi|    Education|               India|\n",
            "|              Zee TV|          Yes|                  86.0|           Hindi|Entertainment|               India|\n",
            "|     5-Minute Crafts|          Yes|                  81.1|         English|       How-to|           Cyprus[a]|\n",
            "|           BANGTANTV|           No|                  79.4|          Korean|        Music|         South Korea|\n",
            "|            Pinkfong|          Yes|                  79.2|         English|    Education|         South Korea|\n",
            "|           Colors TV|          Yes|                  77.5|           Hindi|Entertainment|               India|\n",
            "+--------------------+-------------+----------------------+----------------+-------------+--------------------+\n",
            "only showing top 20 rows\n",
            "\n"
          ]
        }
      ]
    },
    {
      "cell_type": "code",
      "source": [
        "from pyspark.sql.functions import when\n",
        "df_youtube = df_youtube.withColumn(\"Channel Size\", when(df_youtube['Subscribers (millions)']>100,\"Large\" ).when((df_youtube['Subscribers (millions)']<=100) & (df_youtube['Subscribers (millions)']>60), \"Medium\").otherwise(\"Small\"))\n",
        "\n",
        "df_youtube.show()\n",
        "\n"
      ],
      "metadata": {
        "colab": {
          "base_uri": "https://localhost:8080/"
        },
        "id": "uaiv88j-xxqg",
        "outputId": "0a380337-b765-49f8-add3-18e57ad2a648"
      },
      "execution_count": null,
      "outputs": [
        {
          "output_type": "stream",
          "name": "stdout",
          "text": [
            "+--------------------+-------------+----------------------+----------------+-------------+--------------------+------------+\n",
            "|                Name|Brand channel|Subscribers (millions)|Primary language|     Category|             Country|Channel Size|\n",
            "+--------------------+-------------+----------------------+----------------+-------------+--------------------+------------+\n",
            "|             MrBeast|           No|                 335.0|         English|Entertainment|       United States|       Large|\n",
            "|            T-Series|          Yes|                 280.0|           Hindi|        Music|               India|       Large|\n",
            "|Cocomelon - Nurse...|          Yes|                 186.0|         English|    Education|       United States|       Large|\n",
            "|           SET India|          Yes|                 180.0|           Hindi|Entertainment|               India|       Large|\n",
            "|       Vlad and Niki|           No|                 129.0|         English|Entertainment|              Russia|       Large|\n",
            "|     Kids Diana Show|          Yes|                 128.0|         English|Entertainment|United States  Uk...|       Large|\n",
            "|         Like Nastya|           No|                 123.0|         English|Entertainment|United States  Uk...|       Large|\n",
            "|           Zee Music|          Yes|                 112.0|           Hindi|        Music|               India|       Large|\n",
            "|           PewDiePie|           No|                 110.0|         English|Entertainment|       Sweden  Japan|       Large|\n",
            "|                 WWE|          Yes|                 105.0|         English|       Sports|       United States|       Large|\n",
            "|           Goldmines|          Yes|                 101.0|           Hindi|         Film|               India|       Large|\n",
            "|        Stokes Twins|           No|                 100.0|         English|Entertainment|       United States|      Medium|\n",
            "|            Sony SAB|          Yes|                  97.5|           Hindi|Entertainment|               India|      Medium|\n",
            "|           Blackpink|           No|                  95.3|          Korean|        Music|         South Korea|      Medium|\n",
            "|ChuChu TV Nursery...|          Yes|                  94.2|           Hindi|    Education|               India|      Medium|\n",
            "|              Zee TV|          Yes|                  86.0|           Hindi|Entertainment|               India|      Medium|\n",
            "|     5-Minute Crafts|          Yes|                  81.1|         English|       How-to|           Cyprus[a]|      Medium|\n",
            "|           BANGTANTV|           No|                  79.4|          Korean|        Music|         South Korea|      Medium|\n",
            "|            Pinkfong|          Yes|                  79.2|         English|    Education|         South Korea|      Medium|\n",
            "|           Colors TV|          Yes|                  77.5|           Hindi|Entertainment|               India|      Medium|\n",
            "+--------------------+-------------+----------------------+----------------+-------------+--------------------+------------+\n",
            "only showing top 20 rows\n",
            "\n"
          ]
        }
      ]
    },
    {
      "cell_type": "code",
      "source": [
        "df_youtube.select(\"Name\", \"Subscribers (millions)\", \"Channel Size\").show()"
      ],
      "metadata": {
        "colab": {
          "base_uri": "https://localhost:8080/"
        },
        "id": "c3gwbJGsy1Uw",
        "outputId": "e6a965d4-7980-493d-a5da-111f0bd05c0f"
      },
      "execution_count": null,
      "outputs": [
        {
          "output_type": "stream",
          "name": "stdout",
          "text": [
            "+--------------------+----------------------+------------+\n",
            "|                Name|Subscribers (millions)|Channel Size|\n",
            "+--------------------+----------------------+------------+\n",
            "|             MrBeast|                 335.0|       Large|\n",
            "|            T-Series|                 280.0|       Large|\n",
            "|Cocomelon - Nurse...|                 186.0|       Large|\n",
            "|           SET India|                 180.0|       Large|\n",
            "|       Vlad and Niki|                 129.0|       Large|\n",
            "|     Kids Diana Show|                 128.0|       Large|\n",
            "|         Like Nastya|                 123.0|       Large|\n",
            "|           Zee Music|                 112.0|       Large|\n",
            "|           PewDiePie|                 110.0|       Large|\n",
            "|                 WWE|                 105.0|       Large|\n",
            "|           Goldmines|                 101.0|       Large|\n",
            "|        Stokes Twins|                 100.0|      Medium|\n",
            "|            Sony SAB|                  97.5|      Medium|\n",
            "|           Blackpink|                  95.3|      Medium|\n",
            "|ChuChu TV Nursery...|                  94.2|      Medium|\n",
            "|              Zee TV|                  86.0|      Medium|\n",
            "|     5-Minute Crafts|                  81.1|      Medium|\n",
            "|           BANGTANTV|                  79.4|      Medium|\n",
            "|            Pinkfong|                  79.2|      Medium|\n",
            "|           Colors TV|                  77.5|      Medium|\n",
            "+--------------------+----------------------+------------+\n",
            "only showing top 20 rows\n",
            "\n"
          ]
        }
      ]
    },
    {
      "cell_type": "code",
      "source": [
        "df_youtube.groupBy(\"Channel Size\").count().show()"
      ],
      "metadata": {
        "colab": {
          "base_uri": "https://localhost:8080/"
        },
        "id": "3LgBC0eJz6iX",
        "outputId": "3c2baf6b-38ea-43b7-91c6-fcd8e1b82a97"
      },
      "execution_count": null,
      "outputs": [
        {
          "output_type": "stream",
          "name": "stdout",
          "text": [
            "+------------+-----+\n",
            "|Channel Size|count|\n",
            "+------------+-----+\n",
            "|      Medium|   34|\n",
            "|       Small|    5|\n",
            "|       Large|   11|\n",
            "+------------+-----+\n",
            "\n"
          ]
        }
      ]
    },
    {
      "cell_type": "code",
      "source": [
        "import matplotlib.pyplot as plt"
      ],
      "metadata": {
        "id": "gW1heChJ08xs"
      },
      "execution_count": null,
      "outputs": []
    },
    {
      "cell_type": "code",
      "source": [
        "channel_size_distributions = df_youtube.groupBy('Channel Size').count().toPandas()\n",
        "print(channel_size_distributions)\n",
        "plt.bar(channel_size_distributions['Channel Size'],channel_size_distributions['count'],color=[ \"blue\",\"orange\",\"green\"])\n",
        "plt.xlabel(\"Channel Size\")\n",
        "plt.ylabel(\"Number of Channels\")\n",
        "plt.title(\"Channel Size Distributions\")\n",
        "plt.show()"
      ],
      "metadata": {
        "colab": {
          "base_uri": "https://localhost:8080/",
          "height": 561
        },
        "id": "NkN4nEfU1FwY",
        "outputId": "a174237d-ad9e-4d39-cc78-43fa0fb91219"
      },
      "execution_count": null,
      "outputs": [
        {
          "output_type": "stream",
          "name": "stdout",
          "text": [
            "  Channel Size  count\n",
            "0       Medium     34\n",
            "1        Small      5\n",
            "2        Large     11\n"
          ]
        },
        {
          "output_type": "display_data",
          "data": {
            "text/plain": [
              "<Figure size 640x480 with 1 Axes>"
            ],
            "image/png": "[encoded data removed]"
          },
          "metadata": {}
        }
      ]
    },
    {
      "cell_type": "code",
      "source": [
        "df_youtube.write.csv(\"updated_youtube_data2.csv\", header= True)\n"
      ],
      "metadata": {
        "id": "u0n0tF1Q4OTr"
      },
      "execution_count": null,
      "outputs": []
    },
    {
      "cell_type": "code",
      "source": [
        "!zip -r updated_youtube_data2.zip updated_youtube_data2.csv\n",
        "from google.colab import files\n",
        "files.download(\"updated_youtube_data.csv\")"
      ],
      "metadata": {
        "colab": {
          "base_uri": "https://localhost:8080/",
          "height": 370
        },
        "id": "NRF2zAbu4zhg",
        "outputId": "41b63f47-bc43-4b85-eec3-f81527c8b90f"
      },
      "execution_count": null,
      "outputs": [
        {
          "output_type": "stream",
          "name": "stdout",
          "text": [
            "\tzip warning: name not matched: updated_youtube_data2.csv\n",
            "\n",
            "zip error: Nothing to do! (try: zip -r updated_youtube_data2.zip . -i updated_youtube_data2.csv)\n"
          ]
        },
        {
          "output_type": "error",
          "ename": "FileNotFoundError",
          "evalue": "Cannot find file: updated_youtube_data.csv",
          "traceback": [
            "\u001b[0;31m---------------------------------------------------------------------------\u001b[0m",
            "\u001b[0;31mFileNotFoundError\u001b[0m                         Traceback (most recent call last)",
            "\u001b[0;32m<ipython-input-1-b950f02d59a4>\u001b[0m in \u001b[0;36m<cell line: 3>\u001b[0;34m()\u001b[0m\n\u001b[1;32m      1\u001b[0m \u001b[0mget_ipython\u001b[0m\u001b[0;34m(\u001b[0m\u001b[0;34m)\u001b[0m\u001b[0;34m.\u001b[0m\u001b[0msystem\u001b[0m\u001b[0;34m(\u001b[0m\u001b[0;34m'zip -r updated_youtube_data2.zip updated_youtube_data2.csv'\u001b[0m\u001b[0;34m)\u001b[0m\u001b[0;34m\u001b[0m\u001b[0;34m\u001b[0m\u001b[0m\n\u001b[1;32m      2\u001b[0m \u001b[0;32mfrom\u001b[0m \u001b[0mgoogle\u001b[0m\u001b[0;34m.\u001b[0m\u001b[0mcolab\u001b[0m \u001b[0;32mimport\u001b[0m \u001b[0mfiles\u001b[0m\u001b[0;34m\u001b[0m\u001b[0;34m\u001b[0m\u001b[0m\n\u001b[0;32m----> 3\u001b[0;31m \u001b[0mfiles\u001b[0m\u001b[0;34m.\u001b[0m\u001b[0mdownload\u001b[0m\u001b[0;34m(\u001b[0m\u001b[0;34m\"updated_youtube_data.csv\"\u001b[0m\u001b[0;34m)\u001b[0m\u001b[0;34m\u001b[0m\u001b[0;34m\u001b[0m\u001b[0m\n\u001b[0m",
            "\u001b[0;32m/usr/local/lib/python3.10/dist-packages/google/colab/files.py\u001b[0m in \u001b[0;36mdownload\u001b[0;34m(filename)\u001b[0m\n\u001b[1;32m    231\u001b[0m   \u001b[0;32mif\u001b[0m \u001b[0;32mnot\u001b[0m \u001b[0m_os\u001b[0m\u001b[0;34m.\u001b[0m\u001b[0mpath\u001b[0m\u001b[0;34m.\u001b[0m\u001b[0mexists\u001b[0m\u001b[0;34m(\u001b[0m\u001b[0mfilename\u001b[0m\u001b[0;34m)\u001b[0m\u001b[0;34m:\u001b[0m\u001b[0;34m\u001b[0m\u001b[0;34m\u001b[0m\u001b[0m\n\u001b[1;32m    232\u001b[0m     \u001b[0mmsg\u001b[0m \u001b[0;34m=\u001b[0m \u001b[0;34m'Cannot find file: {}'\u001b[0m\u001b[0;34m.\u001b[0m\u001b[0mformat\u001b[0m\u001b[0;34m(\u001b[0m\u001b[0mfilename\u001b[0m\u001b[0;34m)\u001b[0m\u001b[0;34m\u001b[0m\u001b[0;34m\u001b[0m\u001b[0m\n\u001b[0;32m--> 233\u001b[0;31m     \u001b[0;32mraise\u001b[0m \u001b[0mFileNotFoundError\u001b[0m\u001b[0;34m(\u001b[0m\u001b[0mmsg\u001b[0m\u001b[0;34m)\u001b[0m  \u001b[0;31m# pylint: disable=undefined-variable\u001b[0m\u001b[0;34m\u001b[0m\u001b[0;34m\u001b[0m\u001b[0m\n\u001b[0m\u001b[1;32m    234\u001b[0m \u001b[0;34m\u001b[0m\u001b[0m\n\u001b[1;32m    235\u001b[0m   \u001b[0mcomm_manager\u001b[0m \u001b[0;34m=\u001b[0m \u001b[0m_IPython\u001b[0m\u001b[0;34m.\u001b[0m\u001b[0mget_ipython\u001b[0m\u001b[0;34m(\u001b[0m\u001b[0;34m)\u001b[0m\u001b[0;34m.\u001b[0m\u001b[0mkernel\u001b[0m\u001b[0;34m.\u001b[0m\u001b[0mcomm_manager\u001b[0m\u001b[0;34m\u001b[0m\u001b[0;34m\u001b[0m\u001b[0m\n",
            "\u001b[0;31mFileNotFoundError\u001b[0m: Cannot find file: updated_youtube_data.csv"
          ]
        }
      ]
    }
  ]
}